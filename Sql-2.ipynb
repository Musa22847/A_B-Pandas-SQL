{
 "cells": [
  {
   "cell_type": "code",
   "execution_count": 1,
   "metadata": {},
   "outputs": [],
   "source": [
    "import pandahouse as ph\n",
    "import seaborn as sns\n",
    "import numpy as np\n",
    "import matplotlib.pyplot as plt"
   ]
  },
  {
   "cell_type": "code",
   "execution_count": 2,
   "metadata": {},
   "outputs": [],
   "source": [
    "connection_default = {'host': 'http://clickhouse.beslan.pro:8080',\n",
    "                      'database':'default',\n",
    "                      'user':'student', \n",
    "                      'password':'dpo_python_2020'\n",
    "                     }"
   ]
  },
  {
   "cell_type": "code",
   "execution_count": 3,
   "metadata": {},
   "outputs": [],
   "source": [
    "connection_test = dict(database='test',\n",
    "                  host='http://clickhouse.beslan.pro:8080',\n",
    "                  user='student-rw',\n",
    "                  password='656e2b0c9c')"
   ]
  },
  {
   "cell_type": "code",
   "execution_count": 4,
   "metadata": {},
   "outputs": [
    {
     "data": {
      "text/html": [
       "<div>\n",
       "<style scoped>\n",
       "    .dataframe tbody tr th:only-of-type {\n",
       "        vertical-align: middle;\n",
       "    }\n",
       "\n",
       "    .dataframe tbody tr th {\n",
       "        vertical-align: top;\n",
       "    }\n",
       "\n",
       "    .dataframe thead th {\n",
       "        text-align: right;\n",
       "    }\n",
       "</style>\n",
       "<table border=\"1\" class=\"dataframe\">\n",
       "  <thead>\n",
       "    <tr style=\"text-align: right;\">\n",
       "      <th></th>\n",
       "      <th>hard_students</th>\n",
       "    </tr>\n",
       "  </thead>\n",
       "  <tbody>\n",
       "    <tr>\n",
       "      <th>0</th>\n",
       "      <td>305</td>\n",
       "    </tr>\n",
       "  </tbody>\n",
       "</table>\n",
       "</div>"
      ],
      "text/plain": [
       "   hard_students\n",
       "0            305"
      ]
     },
     "execution_count": 4,
     "metadata": {},
     "output_type": "execute_result"
    }
   ],
   "source": [
    "# Task_1\n",
    "q = '''\n",
    "    select \n",
    "        count(distinct(st_id)) as hard_students\n",
    "    from default.peas\n",
    "    where correct == '1'\n",
    "    having count(correct) >= 20\n",
    "    '''\n",
    "# отправляем запрос и записываем результат в пандасовский датафрейм\n",
    "task_1 = ph.read_clickhouse(query=q, connection=connection_default)\n",
    "task_1"
   ]
  },
  {
   "cell_type": "code",
   "execution_count": 5,
   "metadata": {},
   "outputs": [
    {
     "data": {
      "text/html": [
       "<div>\n",
       "<style scoped>\n",
       "    .dataframe tbody tr th:only-of-type {\n",
       "        vertical-align: middle;\n",
       "    }\n",
       "\n",
       "    .dataframe tbody tr th {\n",
       "        vertical-align: top;\n",
       "    }\n",
       "\n",
       "    .dataframe thead th {\n",
       "        text-align: right;\n",
       "    }\n",
       "</style>\n",
       "<table border=\"1\" class=\"dataframe\">\n",
       "  <thead>\n",
       "    <tr style=\"text-align: right;\">\n",
       "      <th></th>\n",
       "      <th>test_grp</th>\n",
       "      <th>ARPU</th>\n",
       "      <th>ARPAU</th>\n",
       "      <th>CR</th>\n",
       "      <th>CR_active</th>\n",
       "    </tr>\n",
       "  </thead>\n",
       "  <tbody>\n",
       "    <tr>\n",
       "      <th>0</th>\n",
       "      <td>control</td>\n",
       "      <td>92333.333333</td>\n",
       "      <td>204.760497</td>\n",
       "      <td>0.135900</td>\n",
       "      <td>0.266115</td>\n",
       "    </tr>\n",
       "    <tr>\n",
       "      <th>1</th>\n",
       "      <td>pilot</td>\n",
       "      <td>106093.750000</td>\n",
       "      <td>501.921940</td>\n",
       "      <td>0.324651</td>\n",
       "      <td>0.635719</td>\n",
       "    </tr>\n",
       "  </tbody>\n",
       "</table>\n",
       "</div>"
      ],
      "text/plain": [
       "  test_grp           ARPU       ARPAU        CR  CR_active\n",
       "0  control   92333.333333  204.760497  0.135900   0.266115\n",
       "1    pilot  106093.750000  501.921940  0.324651   0.635719"
      ]
     },
     "execution_count": 5,
     "metadata": {},
     "output_type": "execute_result"
    }
   ],
   "source": [
    "# Task_2\n",
    "q = '''\n",
    "    WITH\n",
    "    (select count(st_id) from default.peas where correct == '1' having count(correct) > '10') as active_users,\n",
    "    (select distinct count(st_id) from default.peas) as potential,\n",
    "    (select count(st_id) from (select st_id, count(correct) as tasks from default.peas  where subject == 'Math'  group by st_id \n",
    "    having tasks >= '2')) as active_users_math\n",
    "SELECT\n",
    "    test_grp,\n",
    "    (money / st_id_unique) as ARPU,\n",
    "    (money / active_users) as ARPAU,\n",
    "    (st_id / potential) * 100 as CR,\n",
    "    (st_id / active_users) * 100 as CR_active\n",
    "FROM (\n",
    "select\n",
    "    count(B.st_id) as st_id,\n",
    "    count(DISTINCT B.st_id) as st_id_unique,\n",
    "    sum(B.money) as money,\n",
    "    A.test_grp as test_grp\n",
    "    from\n",
    "        default.final_project_check as B\n",
    "    inner join\n",
    "        default.studs as A\n",
    "    on \n",
    "        A.st_id = B.st_id\n",
    "group by test_grp)\n",
    "    '''\n",
    "\n",
    "q_test = ph.read_clickhouse(query=q, connection=connection_default)\n",
    "q_test"
   ]
  },
  {
   "cell_type": "code",
   "execution_count": null,
   "metadata": {},
   "outputs": [],
   "source": []
  },
  {
   "cell_type": "code",
   "execution_count": null,
   "metadata": {},
   "outputs": [],
   "source": []
  },
  {
   "cell_type": "code",
   "execution_count": null,
   "metadata": {},
   "outputs": [],
   "source": []
  },
  {
   "cell_type": "code",
   "execution_count": null,
   "metadata": {},
   "outputs": [],
   "source": []
  },
  {
   "cell_type": "code",
   "execution_count": null,
   "metadata": {},
   "outputs": [],
   "source": []
  },
  {
   "cell_type": "code",
   "execution_count": null,
   "metadata": {},
   "outputs": [],
   "source": []
  }
 ],
 "metadata": {
  "kernelspec": {
   "display_name": "Python 3",
   "language": "python",
   "name": "python3"
  },
  "language_info": {
   "codemirror_mode": {
    "name": "ipython",
    "version": 3
   },
   "file_extension": ".py",
   "mimetype": "text/x-python",
   "name": "python",
   "nbconvert_exporter": "python",
   "pygments_lexer": "ipython3",
   "version": "3.7.3"
  }
 },
 "nbformat": 4,
 "nbformat_minor": 4
}
